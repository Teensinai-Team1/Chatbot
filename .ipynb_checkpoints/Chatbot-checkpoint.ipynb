{
 "cells": [
  {
   "cell_type": "markdown",
   "metadata": {},
   "source": [
    "# Chatbot to help in communication between refugees and personnel"
   ]
  },
  {
   "cell_type": "markdown",
   "metadata": {},
   "source": [
    "Here I am importing the needed modules"
   ]
  },
  {
   "cell_type": "code",
   "execution_count": 2,
   "metadata": {},
   "outputs": [
    {
     "ename": "ModuleNotFoundError",
     "evalue": "No module named 'pyaudio'",
     "output_type": "error",
     "traceback": [
      "\u001b[1;31m---------------------------------------------------------------------------\u001b[0m",
      "\u001b[1;31mModuleNotFoundError\u001b[0m                       Traceback (most recent call last)",
      "\u001b[1;32m<ipython-input-2-180f1201419f>\u001b[0m in \u001b[0;36m<module>\u001b[1;34m\u001b[0m\n\u001b[1;32m----> 1\u001b[1;33m \u001b[1;32mimport\u001b[0m \u001b[0mpyaudio\u001b[0m\u001b[1;33m\u001b[0m\u001b[1;33m\u001b[0m\u001b[0m\n\u001b[0m",
      "\u001b[1;31mModuleNotFoundError\u001b[0m: No module named 'pyaudio'"
     ]
    }
   ],
   "source": [
    "import pyaudio"
   ]
  },
  {
   "cell_type": "code",
   "execution_count": null,
   "metadata": {},
   "outputs": [],
   "source": [
    "import nltk\n",
    "import io\n",
    "import numpy as np\n",
    "import random\n",
    "import string\n",
    "import warnings\n",
    "import os\n",
    "import speech_recognition as sr\n",
    "from playsound import playsound\n",
    "from gtts import gTTS\n",
    "from sklearn.feature_extraction.text import TfidfVectorizer\n",
    "from sklearn.metrics.pairwise import cosine_similarity\n",
    "warnings.filterwarnings(\"ignore\")"
   ]
  },
  {
   "cell_type": "code",
   "execution_count": null,
   "metadata": {},
   "outputs": [],
   "source": [
    "f = open('details.txt')\n",
    "raw = f.read().lower()\n",
    "nltk.download(\"punkt\")\n",
    "nltk.download(\"wordnet\")\n",
    "sent_tokens = nltk.sent_tokenize(raw) #Puts each sentence of paragraph into a list/array\n",
    "word_tokens = nltk.word_tokenize(raw) #Puts each word of a sentence into a list/array\n"
   ]
  },
  {
   "cell_type": "markdown",
   "metadata": {},
   "source": [
    "Opening the file with the info for chatbot to give."
   ]
  },
  {
   "cell_type": "code",
   "execution_count": null,
   "metadata": {},
   "outputs": [],
   "source": [
    "sent_tokens[:2]"
   ]
  },
  {
   "cell_type": "code",
   "execution_count": null,
   "metadata": {},
   "outputs": [],
   "source": [
    "word_tokens[:2]"
   ]
  },
  {
   "cell_type": "markdown",
   "metadata": {},
   "source": [
    "### Pre-processing"
   ]
  },
  {
   "cell_type": "code",
   "execution_count": null,
   "metadata": {},
   "outputs": [],
   "source": [
    "lemmer = nltk.stem.WordNetLemmatizer()\n",
    "\n",
    "def LemTokens(tokens):\n",
    "    return [lemmer.lemmatize(token) for token in tokens]\n",
    "\n",
    "remove_punct = dict((ord(punct), None) for punct in string.punctuation)\n",
    "\n",
    "def LemNormalize(text):\n",
    "    return LemTokens(nltk.word_tokenize(text.lower().translate(remove_punct)))\n",
    "\n"
   ]
  },
  {
   "cell_type": "markdown",
   "metadata": {},
   "source": [
    "### Text-to-Speech Code"
   ]
  },
  {
   "cell_type": "code",
   "execution_count": null,
   "metadata": {},
   "outputs": [],
   "source": [
    "hello = \"\"\"Hello I am Team 1's chatbot version 0.2, type 'bye' to exit\"\"\"\n",
    "push_one = \"\"\"Push '1' or 'report' to file a complaint.\"\"\"\n",
    "push_two = \"\"\"Push '2' or 'info' to get info on the camp.\"\"\"\n",
    "push_three = \"\"\"Push '3' or 'survey' to fill in the latest survey\"\"\"\n",
    "issue = \"\"\"Please describe the issue\"\"\"\n",
    "askany = \"\"\"Please ask anything about the camp\"\"\"\n",
    "\n",
    "#Convertion to speech\n",
    "hello_sp = gTTS(hello)\n",
    "push_one_sp = gTTS(push_one)\n",
    "push_two_sp = gTTS(push_two)\n",
    "push_three_sp = gTTS(push_three)\n",
    "issue_sp = gTTS(issue)\n",
    "askany_sp = gTTS(askany)\n",
    "\n",
    "#Saving the TTS\n",
    "hello_sp.save(\"hello.mp3\")\n",
    "push_one_sp.save(\"push_one.mp3\")\n",
    "push_two_sp.save(\"push_two.mp3\")\n",
    "push_three_sp.save(\"push_three.mp3\")\n",
    "issue_sp.save(\"issue.mp3\")\n",
    "askany_sp.save(\"askany.mp3\")\n"
   ]
  },
  {
   "cell_type": "markdown",
   "metadata": {},
   "source": [
    "### Greetings database"
   ]
  },
  {
   "cell_type": "code",
   "execution_count": null,
   "metadata": {},
   "outputs": [],
   "source": [
    "USER_GREETINGS = ('hello', 'hi', 'hey', 'greetings', 'good morning')\n",
    "BOT_GREETINGS = [\"hi\", \"hey\", \"hello\", \"nice to meet you\", \"hi what's up\"]\n",
    "\n",
    "def greeting(sentence):\n",
    "    for word in sentence.split():\n",
    "        if word.lower() in USER_GREETINGS:\n",
    "            return random.choice(BOT_GREETINGS)"
   ]
  },
  {
   "cell_type": "code",
   "execution_count": null,
   "metadata": {},
   "outputs": [],
   "source": [
    "def respond(user_input):\n",
    "    chatbot_response = ''\n",
    "    sent_tokens.append(user_input)\n",
    "    Vec = TfidfVectorizer(tokenizer=LemNormalize, stop_words=\"english\")\n",
    "    tfidf = Vec.fit_transform(sent_tokens)\n",
    "    vals = cosine_similarity(tfidf[-1], tfidf)\n",
    "    idx = vals.argsort()[0][-2]\n",
    "    flat = vals.flatten()\n",
    "    flat.sort()\n",
    "    req_tfidf = flat[-2]\n",
    "    if req_tfidf == 0:\n",
    "        chatbot_response = chatbot_response + \"\"\"Sorry I don't understand\"\"\"\n",
    "        return chatbot_response\n",
    "    else:\n",
    "        chatbot_response = chatbot_response + sent_tokens[idx]\n",
    "        return chatbot_response\n",
    "    "
   ]
  },
  {
   "cell_type": "code",
   "execution_count": null,
   "metadata": {},
   "outputs": [],
   "source": [
    "def get_audio():\n",
    "    global user_input\n",
    "    r = sr.Recognizer()\n",
    "    with sr.Microphone() as source:\n",
    "        audio = r.listen(source)\n",
    "        try:\n",
    "            user_input += r.recognize_google(audio)\n",
    "        except Exception as e:\n",
    "            print(\"I don't think you said anything\")\n",
    "            \n",
    "    return user_input\n",
    "\n",
    "running = True\n",
    "print(hello)\n",
    "playsound(\"hello.mp3\")\n",
    "voice_or_text = input(\"\"\"Push '1' to enter in text or '2' to use speech: \"\"\")\n",
    "\n",
    "reports = list()\n",
    "\n",
    "while running:\n",
    "    print(\"\")\n",
    "    print(push_one)\n",
    "    playsound(\"push_one.mp3\")\n",
    "    print(push_two)\n",
    "    playsound(\"push_two.mp3\")\n",
    "    print(push_three)\n",
    "    playsound(\"push_three.mp3\")\n",
    "    \n",
    "    if voice_or_text == '2':\n",
    "        user_input = str()\n",
    "        get_audio()\n",
    "        user_input = user_input.lower()\n",
    "    elif voice_or_text == '1':\n",
    "        user_input = input().lower()\n",
    "        \n",
    "    if user_input != \"bye\":\n",
    "        if user_input == \"thanks\" or user_input == \"thank you\":\n",
    "            running = False\n",
    "            print(\"\"\"Bot: You're welcome\"\"\")\n",
    "            \n",
    "        elif user_input == \"1\" or user_input == \"report\":\n",
    "            playsound(\"issue.mp3\")\n",
    "            myreport = input(\"Please describe the issue: \")\n",
    "            reports.append(myreport)\n",
    "            print(\"Thank you for the feedback. The authorities will be informed that: %s and will be acted upon\" %myreport)\n",
    "        elif user_input == \"2\" or user_input == \"info\":\n",
    "            playsound(\"askany.mp3\")\n",
    "            question = input(\"Please ask anything about the camp: \").lower()\n",
    "            if greeting(question) != None:\n",
    "                print(\"Chatbot: \"+ greeting(user_input))\n",
    "            else:\n",
    "                print(\"Chatbot: \", end=\"\")\n",
    "                print(respond(question))\n",
    "                sent_tokens.remove(question)\n",
    "        elif user_input == \"3\" or user_input == \"survey\":\n",
    "            print(\"Work in Progress\")\n",
    "        else:\n",
    "            if greeting(user_input) != None:\n",
    "                print(\"Chatbot: \"+ greeting(user_input))\n",
    "            else:\n",
    "                print(\"Chatbot: \", end=\"\")\n",
    "                print(respond(user_input))\n",
    "                sent_tokens.remove(user_input)\n",
    "    else:\n",
    "        running = False\n",
    "        print(\"Chatbot: Bye, have a nice day.\")\n",
    "    \n",
    "    \n",
    "    "
   ]
  },
  {
   "cell_type": "code",
   "execution_count": null,
   "metadata": {},
   "outputs": [],
   "source": []
  }
 ],
 "metadata": {
  "kernelspec": {
   "display_name": "Python 3",
   "language": "python",
   "name": "python3"
  },
  "language_info": {
   "codemirror_mode": {
    "name": "ipython",
    "version": 3
   },
   "file_extension": ".py",
   "mimetype": "text/x-python",
   "name": "python",
   "nbconvert_exporter": "python",
   "pygments_lexer": "ipython3",
   "version": "3.7.6"
  }
 },
 "nbformat": 4,
 "nbformat_minor": 4
}
